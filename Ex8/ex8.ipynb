{
 "cells": [
  {
   "cell_type": "code",
   "execution_count": 23,
   "metadata": {},
   "outputs": [],
   "source": [
    "import pandas as pd\n",
    "import numpy as np\n",
    "from sklearn.model_selection import train_test_split\n",
    "from sklearn.preprocessing import MinMaxScaler\n",
    "from sklearn.neural_network import MLPRegressor\n",
    "from sklearn.metrics import mean_squared_error\n",
    "import matplotlib.pyplot as plt\n",
    "\n"
   ]
  },
  {
   "cell_type": "code",
   "execution_count": 24,
   "metadata": {},
   "outputs": [
    {
     "name": "stdout",
     "output_type": "stream",
     "text": [
      "   Unnamed: 0        112  118    132    129    121  135  148  148.1  136  ...   \n",
      "0         NaN        NaN  NaN    NaN    NaN    NaN  NaN  NaN    NaN  NaN  ...  \\\n",
      "1         NaN        NaN  NaN    NaN    NaN    NaN  NaN  NaN    NaN  NaN  ...   \n",
      "2         NaN        NaN  NaN    NaN    NaN    NaN  NaN  NaN    NaN  NaN  ...   \n",
      "3         NaN     VVP(k)    T  115.0  126.0  141.0  NaN  NaN    NaN  NaN  ...   \n",
      "4         NaN        NaN  NaN    NaN    NaN    NaN  NaN  NaN    NaN  NaN  ...   \n",
      "5         NaN        NaN  NaN    NaN    NaN    NaN  NaN  NaN    NaN  NaN  ...   \n",
      "6         NaN        NaN  NaN    NaN    NaN    NaN  NaN  NaN    NaN  NaN  ...   \n",
      "7         NaN   VVP(k-1)   P1  118.0  115.0  126.0  NaN  NaN    NaN  NaN  ...   \n",
      "8         NaN  VVP(k-12)   P2  112.0  118.0  132.0  NaN  NaN    NaN  NaN  ...   \n",
      "\n",
      "   362  348.1  363  435  491  505  404.1  359  310  337  \n",
      "0  NaN    NaN  NaN  NaN  NaN  NaN    NaN  NaN  NaN  NaN  \n",
      "1  NaN    NaN  NaN  NaN  NaN  NaN    NaN  NaN  NaN  NaN  \n",
      "2  NaN    NaN  NaN  NaN  NaN  NaN    NaN  NaN  NaN  NaN  \n",
      "3  NaN    NaN  NaN  NaN  NaN  NaN    NaN  NaN  NaN  NaN  \n",
      "4  NaN    NaN  NaN  NaN  NaN  NaN    NaN  NaN  NaN  NaN  \n",
      "5  NaN    NaN  NaN  NaN  NaN  NaN    NaN  NaN  NaN  NaN  \n",
      "6  NaN    NaN  NaN  NaN  NaN  NaN    NaN  NaN  NaN  NaN  \n",
      "7  NaN    NaN  NaN  NaN  NaN  NaN    NaN  NaN  NaN  NaN  \n",
      "8  NaN    NaN  NaN  NaN  NaN  NaN    NaN  NaN  NaN  NaN  \n",
      "\n",
      "[9 rows x 121 columns]\n",
      "[ -7.95555556   3.14444444  18.24444444  -4.65555556  -7.55555556\n",
      "   3.54444444 -10.35555556  -4.25555556   9.84444444]\n"
     ]
    }
   ],
   "source": [
    "#Carregar dados do Excel e ignorar a primeira linha\n",
    "df = pd.read_excel('vvp.xlsx', skiprows=1)\n",
    "\n",
    "#Converter os dados em um formato adequado\n",
    "data = df.values\n",
    "data = data.reshape(-1)\n",
    "data = pd.to_numeric(data, errors='coerce')\n",
    "data = data[~np.isnan(data)]  # Remove valores nulos, se houver\n",
    "\n",
    "#Remover tendência linear\n",
    "def detrend(y):\n",
    "    x = np.arange(len(y))\n",
    "    A = np.vstack([x, np.ones(len(x))]).T\n",
    "    m, c = np.linalg.lstsq(A, y, rcond=None)[0]\n",
    "    return y - (m * x + c)\n",
    "\n",
    "data_detrended = detrend(data)\n",
    "print(df)\n",
    "print(data_detrended)\n",
    "\n"
   ]
  },
  {
   "cell_type": "code",
   "execution_count": 25,
   "metadata": {},
   "outputs": [
    {
     "name": "stdout",
     "output_type": "stream",
     "text": [
      "Mean Squared Error: 0.6052149117795438\n"
     ]
    },
    {
     "data": {
      "image/png": "[encoded data removed]",
      "text/plain": [
       "<Figure size 640x480 with 1 Axes>"
      ]
     },
     "metadata": {},
     "output_type": "display_data"
    }
   ],
   "source": [
    "#Dividir os dados em VVP, VVP(k-1) e VVP(k-12)\n",
    "VVP = data_detrended[3:]\n",
    "VVP_k_1 = data_detrended[2:-1]\n",
    "VVP_k_12 = data_detrended[:-3]\n",
    "\n",
    "#Preparar os dados para a previsão\n",
    "X = np.column_stack((VVP_k_1, VVP_k_12))\n",
    "y = VVP\n",
    "\n",
    "#Normalizar os dados\n",
    "scaler = MinMaxScaler()\n",
    "X_scaled = scaler.fit_transform(X)\n",
    "y_scaled = scaler.fit_transform(y.reshape(-1, 1)).ravel()\n",
    "\n",
    "#Treinar e testar o modelo\n",
    "X_train, X_test, y_train, y_test = train_test_split(X_scaled, y_scaled, test_size=0.2, random_state=0)\n",
    "\n",
    "#Inicializar o modelo\n",
    "model = MLPRegressor(hidden_layer_sizes=(100, 100), max_iter=1000, random_state=0)\n",
    "\n",
    "#Treinar o modelo\n",
    "model.fit(X_train, y_train)\n",
    "\n",
    "#Fazer previsões\n",
    "y_pred = model.predict(X_test)\n",
    "\n",
    "#Avaliar o modelo\n",
    "mse = mean_squared_error(y_test, y_pred)\n",
    "print(\"Mean Squared Error:\", mse)\n",
    "\n",
    "#Visualizar resultados\n",
    "plt.plot(y_test, label='True')\n",
    "plt.plot(y_pred, label='Predicted')\n",
    "plt.legend()\n",
    "plt.show()\n"
   ]
  },
  {
   "cell_type": "code",
   "execution_count": null,
   "metadata": {},
   "outputs": [],
   "source": []
  },
  {
   "cell_type": "code",
   "execution_count": null,
   "metadata": {},
   "outputs": [],
   "source": []
  }
 ],
 "metadata": {
  "kernelspec": {
   "display_name": "Python 3",
   "language": "python",
   "name": "python3"
  },
  "language_info": {
   "codemirror_mode": {
    "name": "ipython",
    "version": 3
   },
   "file_extension": ".py",
   "mimetype": "text/x-python",
   "name": "python",
   "nbconvert_exporter": "python",
   "pygments_lexer": "ipython3",
   "version": "3.11.3"
  }
 },
 "nbformat": 4,
 "nbformat_minor": 2
}
