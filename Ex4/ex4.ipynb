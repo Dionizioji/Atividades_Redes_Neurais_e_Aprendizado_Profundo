{
 "cells": [
  {
   "cell_type": "code",
   "execution_count": 40,
   "metadata": {},
   "outputs": [],
   "source": [
    "import numpy as np\n",
    "\n",
    "#Definindo a função de ativação do ADALINE\n",
    "def activation_function(x):\n",
    "    return 1 if x >= 0 else -1\n",
    "\n",
    "#Dados para o teste\n",
    "file_path = 'tab_treinamento2.dat'\n",
    "\n",
    "#Carregar os dados do teste\n",
    "training_data = np.genfromtxt(file_path)\n",
    "\n",
    "#Definindo o número de iterações\n",
    "num_iterations = 100\n",
    "learning_rate = 0.01\n",
    "\n",
    "#Inicializando os vetores de pesos aleatoriamente\n",
    "weights_1 = np.random.rand(5)  # Primeiro vetor de pesos\n",
    "weights_2 = np.random.rand(5)  # Segundo vetor de pesos\n",
    "\n"
   ]
  },
  {
   "cell_type": "code",
   "execution_count": 41,
   "metadata": {},
   "outputs": [
    {
     "name": "stdout",
     "output_type": "stream",
     "text": [
      "Pesos após o primeiro treinamento:\n",
      "Primeiro vetor de pesos: [ 1.26991846  1.50607225 -0.27180082 -1.06482338  1.58814261]\n",
      "Segundo vetor de pesos: [ 1.27252906  1.51060021 -0.27322896 -1.06787526  1.59378168]\n"
     ]
    }
   ],
   "source": [
    "#Treinamento 1\n",
    "for _ in range(num_iterations):\n",
    "    for inputs in training_data:\n",
    "        x = np.append(inputs[:4], 1) \n",
    "        desired_output = inputs[4]\n",
    "\n",
    "        #Calculando a saída atual\n",
    "        output_1 = np.dot(weights_1, x)\n",
    "        output_2 = np.dot(weights_2, x)\n",
    "\n",
    "        #Atualizando os pesos\n",
    "        weights_1 += learning_rate * (desired_output - output_1) * x\n",
    "        weights_2 += learning_rate * (desired_output - output_2) * x\n",
    "\n",
    "#Imprimindo os pesos obtidos após o primeiro treinamento\n",
    "print(\"Pesos após o primeiro treinamento:\")\n",
    "print(\"Primeiro vetor de pesos:\", weights_1)\n",
    "print(\"Segundo vetor de pesos:\", weights_2)"
   ]
  },
  {
   "cell_type": "code",
   "execution_count": 42,
   "metadata": {},
   "outputs": [
    {
     "name": "stdout",
     "output_type": "stream",
     "text": [
      "Pesos após o segundo treinamento:\n",
      "Primeiro vetor de pesos: [ 1.3185615   1.63413363 -0.43070734 -1.15418138  1.82745703]\n",
      "Segundo vetor de pesos: [ 1.3187439   1.634597   -0.43123618 -1.15450361  1.82829378]\n"
     ]
    }
   ],
   "source": [
    "#Treinamento 2\n",
    "for _ in range(num_iterations):\n",
    "    for inputs in training_data:\n",
    "        x = np.append(inputs[:4], 1)  \n",
    "        desired_output = inputs[4]\n",
    "\n",
    "        #Calculando a saída atual\n",
    "        output_1 = np.dot(weights_1, x)\n",
    "        output_2 = np.dot(weights_2, x)\n",
    "\n",
    "        #Atualizando os pesos\n",
    "        weights_1 += learning_rate * (desired_output - output_1) * x\n",
    "        weights_2 += learning_rate * (desired_output - output_2) * x\n",
    "\n",
    "#Imprimindo os pesos obtidos após o segundo treinamento\n",
    "print(\"Pesos após o segundo treinamento:\")\n",
    "print(\"Primeiro vetor de pesos:\", weights_1)\n",
    "print(\"Segundo vetor de pesos:\", weights_2)"
   ]
  },
  {
   "cell_type": "code",
   "execution_count": 43,
   "metadata": {},
   "outputs": [
    {
     "name": "stdout",
     "output_type": "stream",
     "text": [
      "Saída 1: 0.01242969115422965 - Saída 2: 0.012407555571849027\n",
      "Válvula escolhida: A\n",
      "\n",
      "Saída 1: -0.1292007309375809 - Saída 2: -0.12926221700831508\n",
      "Válvula escolhida: A\n",
      "\n",
      "Saída 1: 0.7540660584186922 - Saída 2: 0.7542415387788917\n",
      "Válvula escolhida: B\n",
      "\n",
      "Saída 1: -1.182305564011889 - Saída 2: -1.1823586163267237\n",
      "Válvula escolhida: A\n",
      "\n",
      "Saída 1: -0.6595733388015457 - Saída 2: -0.6597177122656674\n",
      "Válvula escolhida: A\n",
      "\n",
      "Saída 1: 0.6784554837259786 - Saída 2: 0.6786979692820361\n",
      "Válvula escolhida: B\n",
      "\n",
      "Saída 1: 1.3820112134259503 - Saída 2: 1.3823645843474521\n",
      "Válvula escolhida: B\n",
      "\n",
      "Saída 1: 0.7413710610214823 - Saída 2: 0.7415872781074286\n",
      "Válvula escolhida: B\n",
      "\n",
      "Saída 1: 0.5232115175050842 - Saída 2: 0.5230955493384783\n",
      "Válvula escolhida: A\n",
      "\n",
      "Saída 1: -0.016927295752147797 - Saída 2: -0.017066703922953952\n",
      "Válvula escolhida: A\n",
      "\n",
      "Saída 1: -0.9862136227269882 - Saída 2: -0.9864366268094544\n",
      "Válvula escolhida: A\n",
      "\n",
      "Saída 1: 1.535983695846588 - Saída 2: 1.5362909954720947\n",
      "Válvula escolhida: B\n",
      "\n",
      "Saída 1: -0.18587348366395795 - Saída 2: -0.18577404112729612\n",
      "Válvula escolhida: B\n",
      "\n",
      "Saída 1: -0.016927295752147797 - Saída 2: -0.017066703922953952\n",
      "Válvula escolhida: A\n",
      "\n",
      "Saída 1: 1.732683204609726 - Saída 2: 1.7328757801134098\n",
      "Válvula escolhida: B\n",
      "\n"
     ]
    }
   ],
   "source": [
    "#Testando a ADALINE\n",
    "#Conjunto de testes\n",
    "file_path2 = 'tab_teste2.dat'\n",
    "\n",
    "#Carregando o cinjunto de teste\n",
    "test_data = np.genfromtxt(file_path2)\n",
    "for inputs in test_data:\n",
    "    x = np.append(inputs, 1) \n",
    "\n",
    "    #Calculando a saída atual\n",
    "    output_1 = np.dot(weights_1, x)\n",
    "    output_2 = np.dot(weights_2, x)\n",
    "\n",
    "    print(f\"Saída 1: {output_1} - Saída 2: {output_2}\")\n",
    "    print(f\"Válvula escolhida: {'B' if output_2 > output_1 else 'A'}\")\n",
    "    print()"
   ]
  }
 ],
 "metadata": {
  "kernelspec": {
   "display_name": "Python 3",
   "language": "python",
   "name": "python3"
  },
  "language_info": {
   "codemirror_mode": {
    "name": "ipython",
    "version": 3
   },
   "file_extension": ".py",
   "mimetype": "text/x-python",
   "name": "python",
   "nbconvert_exporter": "python",
   "pygments_lexer": "ipython3",
   "version": "3.11.3"
  }
 },
 "nbformat": 4,
 "nbformat_minor": 2
}
